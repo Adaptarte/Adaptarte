{
 "cells": [
  {
   "attachments": {},
   "cell_type": "markdown",
   "metadata": {},
   "source": [
    "# Read Me\n",
    "\n",
    "This code generates a file *User.db* as the prepopulated DB\n",
    "\n",
    "For Android, move it under *android/app/src/main/assets*"
   ]
  },
  {
   "cell_type": "code",
   "execution_count": null,
   "metadata": {},
   "outputs": [],
   "source": [
    "from sqlite3 import (\n",
    "    connect,\n",
    "    Cursor\n",
    ")"
   ]
  },
  {
   "cell_type": "code",
   "execution_count": null,
   "metadata": {},
   "outputs": [],
   "source": [
    "db_name = \"User.db\"\n",
    "connection = connect(db_name)\n",
    "cursor = connection.cursor()"
   ]
  },
  {
   "attachments": {},
   "cell_type": "markdown",
   "metadata": {},
   "source": [
    "### Drop tables\n",
    "(Testing only)"
   ]
  },
  {
   "cell_type": "code",
   "execution_count": null,
   "metadata": {},
   "outputs": [],
   "source": [
    "cursor.execute(\"DROP TABLE IF EXISTS DailyGoalTypes\")\n",
    "cursor.execute(\"DROP TABLE IF EXISTS DailyGoals\")\n",
    "connection.commit()"
   ]
  },
  {
   "attachments": {},
   "cell_type": "markdown",
   "metadata": {},
   "source": [
    "### Create tables"
   ]
  },
  {
   "cell_type": "code",
   "execution_count": null,
   "metadata": {},
   "outputs": [],
   "source": [
    "cursor.execute(\n",
    "    \"\"\"\n",
    "    CREATE TABLE DailyGoalTypes (\n",
    "        id      INTEGER     PRIMARY KEY AUTOINCREMENT,\n",
    "        name    VARCHAR(15) NOT NULL\n",
    "    )\n",
    "    \"\"\"\n",
    ")\n",
    "cursor.execute(\n",
    "    \"\"\"\n",
    "    CREATE TABLE DailyGoals (\n",
    "        id      INTEGER     PRIMARY KEY AUTOINCREMENT,\n",
    "        done    BOOLEAN     NOT NULL,\n",
    "        time    INTEGER     NOT NULL,\n",
    "        title   VARCHAR(30) NOT NULL,\n",
    "        type    INTEGER     NOT NULL,\n",
    "        FOREIGN KEY(type) REFERENCES DailyGoalTypes(id)\n",
    "    )\n",
    "    \"\"\"\n",
    ")\n",
    "connection.commit()"
   ]
  },
  {
   "attachments": {},
   "cell_type": "markdown",
   "metadata": {},
   "source": [
    "### Insert enums"
   ]
  },
  {
   "cell_type": "code",
   "execution_count": null,
   "metadata": {},
   "outputs": [],
   "source": [
    "cursor.executemany(\n",
    "    \"\"\"\n",
    "    INSERT INTO DailyGoalTypes\n",
    "        (name)\n",
    "    VALUES (?)\n",
    "    \"\"\",\n",
    "    [\n",
    "        [\"Record\"],\n",
    "        [\"Pill\"]\n",
    "    ]\n",
    ")\n",
    "connection.commit()"
   ]
  },
  {
   "attachments": {},
   "cell_type": "markdown",
   "metadata": {},
   "source": [
    "### Sample data"
   ]
  },
  {
   "cell_type": "code",
   "execution_count": null,
   "metadata": {},
   "outputs": [],
   "source": [
    "cursor.executemany(\n",
    "    \"\"\"\n",
    "    INSERT INTO DailyGoals\n",
    "        (done, time, title, type)\n",
    "    VALUES (?, ?, ?, ?)\n",
    "    \"\"\",\n",
    "    [\n",
    "        [False, 8 * 60, \"Toma tu pastilla de la tensión\", 2],\n",
    "        [False, 12 * 60, \"Registro aqui tu tensión\", 1],\n",
    "        [True, 18 * 60, \"Registro de tensión\", 1]\n",
    "    ]\n",
    ")\n",
    "connection.commit()"
   ]
  }
 ],
 "metadata": {
  "kernelspec": {
   "display_name": "Python 3.10.7 64-bit",
   "language": "python",
   "name": "python3"
  },
  "language_info": {
   "codemirror_mode": {
    "name": "ipython",
    "version": 3
   },
   "file_extension": ".py",
   "mimetype": "text/x-python",
   "name": "python",
   "nbconvert_exporter": "python",
   "pygments_lexer": "ipython3",
   "version": "3.10.7"
  },
  "orig_nbformat": 4,
  "vscode": {
   "interpreter": {
    "hash": "369f2c481f4da34e4445cda3fffd2e751bd1c4d706f27375911949ba6bb62e1c"
   }
  }
 },
 "nbformat": 4,
 "nbformat_minor": 2
}
